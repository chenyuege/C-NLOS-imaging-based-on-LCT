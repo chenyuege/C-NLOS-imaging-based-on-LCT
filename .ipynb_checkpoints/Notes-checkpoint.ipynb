{
 "cells": [
  {
   "cell_type": "markdown",
   "metadata": {},
   "source": [
    "# Paper: Confocal non-line-of-sight based on the light-cone transform"
   ]
  },
  {
   "cell_type": "markdown",
   "metadata": {},
   "source": [
    "## Abstract\n",
    "How to image objects that are hidden from a camera’s view is a problem of fundamental importance to many fields of research1–20, with applications in robotic vision, defence, remote sensing, medical imaging and autonomous vehicles. Non-line-of-sight (NLOS) imaging at macroscopic scales has been demonstrated by scanning a visible surface with a pulsed laser and a time-resolved detector14–19. Whereas light detection and ranging (LIDAR) systems use such measurements to recover the shape of visible objects from direct reflections21–24, NLOS imaging reconstructs the shape and albedo of hidden objects from multiply scattered light. Despite recent advances, NLOS imaging has remained impractical owing to the prohibitive memory and processing requirements of existing reconstruction algorithms, and the extremely weak signal of multiply scattered light. Here we show that a confocal scanning procedure can address these challenges by facilitating the derivation of the light-cone transform to solve the NLOS reconstruction problem. This method requires much smaller computational and memory resources than previous reconstruction methods do and images hidden objects at unprecedented resolution. Confocal scanning also provides a sizeable increase in signal and range when imaging retroreflective objects. We quantify the resolution bounds of NLOS imaging, demonstrate its potential for real-time tracking and derive efficient algorithms that incorporate image priors and a physically accurate noise model. Additionally, we describe successful outdoor experiments of NLOS imaging under indirect sunlight. "
   ]
  },
  {
   "cell_type": "markdown",
   "metadata": {},
   "source": [
    "### 摘要中的重点\n",
    " + 非视距成像，即当照相机与物体之间有障碍物时的成像，有很多应用，包括在机器视觉，遥感，医学成像，自动驾驶等\n",
    " + 通过脉冲激光和时间分辨探测器扫描可见表面已经验证了宏观尺度上的非视距成像\n",
    " + 尽管NLOS最近取得了不少的进展，但NLOS成像仍旧不切实际，原因包括:\n",
    "     + 现有重建算法对于存储和处理速度的要求过高\n",
    "     + 多次散射后光信号极弱\n",
    " + 本文说明了共焦扫描可以通过促进光锥变换的实现来解决NLOS的重建问题\n",
    " + 这种基于光锥变换的共焦非视距成像的优点有：\n",
    "     + 时间复杂度低\n",
    "     + 空间复杂度低\n",
    "     + 成像分辨率高\n",
    "     + 当对逆向反射物体进行成像时，共焦扫描还可以显着增加信号和范围\n",
    " + 本文的其他工作\n",
    "     + 量化了NLOS成像的分辨率界限\n",
    "     + 展示了其实时跟踪的潜力\n",
    "     + 推导出包含图像先验和物理精确噪声模型的高效算法\n",
    "     + 描述了在间接阳光下成功进行NLOS成像的户外实验。\n",
    "     \n",
    " \n",
    " "
   ]
  },
  {
   "cell_type": "markdown",
   "metadata": {},
   "source": [
    "## Paragraph 1\n",
    "LIDAR systems use time-resolved sensors to scan the three- dimensional (3D) geometry of objects21–24. Such systems acquire range measurements by recording the time required for light to travel along a direct path from a source to a point on the object and back to a sensor. Recently, these types of sensors have also been used to perform NLOS tracking12,13 or imaging14–20 of objects ‘hidden around corners’, where the position and shape of the objects are computed from indirect light paths. The light travelling along indirect paths scatters multiple times before reaching a sensor and may scatter off objects outside a camera’s direct line of sight (Fig. 1). Recovering images of hidden objects from indirect light paths involves a challenging inverse problem because there are infinitely many such paths to consider. With applications in remote sensing and machine vision, NLOS imaging could enable capabilities for a variety of imaging systems.\n"
   ]
  },
  {
   "cell_type": "markdown",
   "metadata": {},
   "source": [
    "### 第一段\n",
    "LIDAR系统使用时间分辨传感器扫描物体的三维（3D）几何结构[21-24]。 这样的系统通过记录光沿着从源到物体上的点并返回到传感器的直接路径行进所需的时间来获取距离测量值。 最近，这些类型的传感器也被用于执行对象“隐藏在角落周围”的NLOS跟踪12,13或成像14-20，其中对象的位置和形状是从间接光路计算的。沿着间接路径传播的光在到达传感器之前会散射多次，并且可能会散射出摄像机直接视线外的物体（图1）。 从间接光路中恢复隐藏对象的图像涉及具有挑战性的逆问题，因为需要考虑无限多个这样的路径。 借助遥感和机器视觉应用，NLOS成像可以实现各种成像系统的功能。"
   ]
  },
  {
   "cell_type": "markdown",
   "metadata": {},
   "source": [
    "## Paragraph 2\n",
    "The challenging task of imaging objects that are partially or fully obscured from view has been tackled with approaches based on timegated imaging2, coherence gating3, speckle correlation4,5, wavefront shaping6, ghost imaging7,8, structured illumination9 and intensity imaging10,11. At macroscopic scales, the most promising NLOS imaging systems rely on time-resolved detectors12–20. However, NLOS imaging with time-resolved systems remains a hard problem for three main reasons. First, the reconstruction step is prohibitively computationally demanding, in terms of both memory requirements and processing cycles. Second, the flux of multiply scattered light is extremely low, requiring either extensive acquisition times in dark environments or a sufficiently high-power laser to overcome the contribution of ambient light. Finally, NLOS imaging often requires a custom hardware system made with expensive components, thus preventing its widespread use."
   ]
  },
  {
   "cell_type": "markdown",
   "metadata": {},
   "source": [
    "### 第二段\n",
    "使用基于时间门控成像[2]，相干门控[3]，散斑相关[4,5]，波前成像[6]，重影成像[7,8]，结构照明[9]和强度成像[10,11]的方法解决了成像部分或完全模糊的物体的挑战性任务。 在宏观尺度上，最有前景的NLOS成像系统依赖于时间分辨探测器[12-20]。 \n",
    "然而，具有时间分辨系统的NLOS成像仍然是一个难题，主要有三个原因。 \n",
    "+ 首先，就存储器要求和处理周期而言，重建步骤在计算上要求极高。 \n",
    "+ 其次，多次散射光的通量非常低，需要在黑暗环境中的大量采集时间或足够高功率的激光来克服环境光的贡献。 \n",
    "+ 最后，NLOS成像通常需要使用昂贵组件制造的定制硬件系统，从而阻止其广泛使用。"
   ]
  },
  {
   "cell_type": "markdown",
   "metadata": {},
   "source": [
    "## Paragraph 3\n",
    "Confocal NLOS (C-NLOS) imaging aims to overcome these challenges. Whereas previous NLOS acquisition setups exhaustively illuminate and image pairs of distinct points on a visible surface (such as a wall), the proposed system illuminates and images the same point (Fig. 1) and raster-scans this point across the wall to acquire a 3D transient (that is, time-resolved) image14,25–27. C-NLOS i maging offers several  advantages over existing methods. First, it facilitates the  derivation of a closed-form solution to the NLOS problem. The  proposed NLOS reconstruction procedure is several orders of m agnitude faster and more memory-efficient than  previous approaches, and it also  produces higher-quality reconstructions. Second, whereas indirectly scattered light remains extremely weak for diffuse objects, retroreflective objects (such as road signs, bicycle reflectors and high-visibility safety apparel) considerably increase the indirect signal by reflecting light back to its source with minimal scattering. This retroreflectance  property can only be exploited by confocalized systems that simultaneously i lluminate and image a common point and may be the enabling factor towards making NLOS imaging practical in certain applications (such as  autonomous driving). Third, LIDAR systems already perform confocal scanning to acquire point clouds from direct light paths. Our  prototype system was built from the ground up, but commercial LIDAR systems may be capable of supporting the algorithms developed here with  minimal hardware modifications.\n"
   ]
  },
  {
   "cell_type": "markdown",
   "metadata": {},
   "source": [
    "### 第三段\n",
    "共聚焦NLOS（C-NLOS）成像旨在克服这些挑战。虽然先前的NLOS采集设置在可见表面（例如墙壁）上详尽地照亮和描绘了不同点的图像对，但是所提出的系统照亮并成像相同的点（图1）并且光栅扫描该点穿过墙壁以获得3D瞬态（即时间分辨）图像[14,25-27]。 \n",
    "C-NLOS成像提供了优于现有方法的若干优点。\n",
    " + 首先，它有助于推导出NLOS问题的封闭形式解决方案。与以前的方法相比，所提出的NLOS重建过程比几个数量级更快且更具记忆效率，并且它还产生更高质量的重建。\n",
    " + 其次，对于漫射物体，间接散射光仍然非常弱，而逆向反射物体（例如道路标志，自行车反光镜和高能见度安全服装）通过以最小散射将光反射回其光源而显着增加间接信号。这种后向反射特性只能由共聚焦系统利用，这些系统同时发光并成像公共点，并且可能是使NLOS成像在某些应用（例如自动驾驶）中实用的有利因素。\n",
    " + 第三，LIDAR系统已经执行共焦扫描以从直接光路获取点云。我们的原型系统是从头开始构建的，但商用LIDAR系统可能能够通过最少的硬件修改来支持此处开发的算法。"
   ]
  },
  {
   "cell_type": "markdown",
   "metadata": {},
   "source": [
    "## Paragraph 4\n",
    "Similarly to other NLOS imaging approaches, our image formation model makes the following assumptions: there is only single scattering behind the wall (that is, no inter-reflections in the hidden part of the scene), light scatters isotropically (that is, the model ignores Lambert’s cosine terms), and no occlusions occur within the hidden scene. Our approach also supports retroreflective materials through a minor modification of the image formation model.\n"
   ]
  },
  {
   "cell_type": "markdown",
   "metadata": {},
   "source": [
    "### 第四段\n",
    "与其他NLOS成像方法类似，我们的图像形成模型做出以下假设：\n",
    "+ 墙后面只有单一的散射（也就是说，场景的隐藏部分没有相互反射）\n",
    "+ 各向同性地散射光（即模型忽略兰伯特的余弦项）\n",
    "+ 并且隐藏的场景中不会出现遮挡\n",
    "\n",
    "我们的方法还通过对图像形成模型的微小修改来支持逆向反射材料。"
   ]
  },
  {
   "cell_type": "markdown",
   "metadata": {},
   "source": [
    "## Paragraph 5\n",
    "C-NLOS measurements consist of a two-dimensional set of temporal histograms, acquired by confocally scanning points x′ , y′ on a planar wall at position z′=0. This 3D volume of measurements, $\\tau$, is given by  \n",
    "<center>\n",
    "$$\\tau(x',y',t)=\\int\\int\\int_{\\Omega}\\frac{1}{r^{4}}\\rho(x,y,z)\\delta(2\\sqrt{(x'-x)^{2}+(y'-y)^{2}+z^{2}}-tc)dxdydz$$\n",
    "    equation (6)\n",
    "</center>\n",
    "\n",
    "where c is the speed of light. Every measurement sample τ(x',y',t) captures the photon flux at point (x', y') and time t relative to an incident pulse scattered by the same point at time t = 0. Here, the  function ρ is the albedo of the hidden scene at each point (x, y, z) with z > 0 in the 3D half-space Ω. The Dirac delta function δ represents the surface of a spatio-temporal four-dimensional hypercone given by $x^2 +y^2 +z^2 − (tc/2)^2 = 0 $, which models light propagation from the wall to the object and back to the wall. It is also closely related to Minkowski’s light cone[28], which is a geometric representation of light propagation through space and time. We note that the function is shift-invariant in the x and y axes, but not in the z axis. A feature of this formulation is that the distance function $r= \\sqrt{(x'−x)^2 +(y'−y)^2 +z^2} =tc/2$ can be expressed in terms of the arrival time t; the radiometric term $1/r^4$ can thus be pulled out of the triple integral. Equation (1) can also be modified to model retroreflective materials by replacing $1/r^4$ with $1/r^2$, which represents a large increase in the flux of the indirect light (see Supplementary Information for details)."
   ]
  },
  {
   "cell_type": "markdown",
   "metadata": {},
   "source": [
    "## Paragraph 6\n",
    "The most remarkable property of equation (1) is the fact that a change of variables in the integral by $z=\\sqrt{u}$,$ dz/du=1/(2\\sqrt{u})$ and $v= (tc/2)^2$ results in\n",
    "\n",
    "<center>\n",
    "$$\\underbrace{v^{3/2}\\tau (x',y',2\\sqrt{v} /c)}_{R_{t}\\{\\tau \\}(x',y',v)}=\\int\\int\\int_{\\Omega}\\underbrace{\\frac{1}{2\\sqrt{u}}\\rho (x,y,\\sqrt{u})}_{R_{z}\\{\\rho \\}(x,y,u)}\\underbrace{\\delta((x'-x)^2+(y'-y)^2+u-v)}_{h(x-x',y-y',v-u)}dxdydu$$\n",
    "equation (2)\n",
    "    </center>\n",
    "\n",
    "which can be expressed as a straightforward 3D convolution, where $R_t\\{ \\tau \\}=h∗R_z\\{\\rho \\}$ . Here, the function h is a shift-invariant 3D convolution kernel, the transform $R_z$ nonuniformly resamples and attenuates the elements of volume ρ along the z axis, and the transform $R_t$ nonuniformly resamples and attenuates the measurements τ along the time axis. The inverses of both $R_z$ and $R_t$ also have closed-form expressions. We refer to equation (2) as the light-cone transform (LCT).\n"
   ]
  },
  {
   "cell_type": "markdown",
   "metadata": {},
   "source": [
    "# Supplementary Information\n",
    "Confocal non-line-of-sight based on the light-cone transform"
   ]
  },
  {
   "cell_type": "markdown",
   "metadata": {},
   "source": [
    "## Supplementary Methods\n",
    "补充方法"
   ]
  },
  {
   "cell_type": "markdown",
   "metadata": {},
   "source": [
    "### Equipment details\n",
    "The time-resolved detector is a PDM series single photon avalanche diode (SPAD) from Micro Photon Devices with a 100 µm⇥ 100 µm active area, a reported 27 ps timing jitter (100 kHz laser at 675 nm), and 40.9 dark counts per second. Detection events are time stamped with 4ps temporal resolution using a PicoHarp 300 Time-Correlated Single Photon Counting (TCSPC) module. The detected light is focused by a 75mm achromatic doublet (Thorlabs AC254-075-A-ML), and filtered using a laser line filter (Thorlabs FL670-10). The detection optics are co-axially aligned with an active light source using a polarized beamsplitter (Thorlabs PBS251). The light source (ALPHALAS PICOPOWER-LD-670-50) consists of a 670 nm wavelength pulsed laser diode with a reported pulse width of 30.6ps at a 10MHz repetition rate and 0.11mW average power. A 2-axis scanning galvonometer (Thorlabs GVS012) raster scans the illumination and detection spots across a wall located approximately 2m from the system at an oblique angle. The measured jitter of the entire system is approximately 60 ps without the laser line filter, and 200 ps with the filter on. We only use the filter for the outdoor experiments to reduce ambient light. The increase in jitter is due to the fact that the spectral transmission properties of the filter affect the temporal characteristics of the imaging system via the time-bandwidth product.16 An appropriate choice of spectral line filter and pulsed laser could mitigate this effect.\n",
    "<center>\n",
    "<img src=\"http://github.com/gengruixu/picture_database/blob/master/Nature25489/NLOS_s1_0.jpg?raw=true\" width=\"70%\"/>\n",
    "</center>"
   ]
  },
  {
   "cell_type": "markdown",
   "metadata": {},
   "source": [
    "#### 实验装置\n",
    "实验装置包括：\n",
    " + 时间分辨探测器(time-resolved detector14)\n",
    "     + Micro Photon Devices的PDM系列单光子雪崩二极管（SPAD）\n",
    "     + 有效面积为100μm⇥100μm\n",
    "     + 27 ps定时抖动（675 nm处的100 kHz激光）\n",
    "     + 每秒40.9的暗计数\n",
    " + 检测事件: 时间相关单光子计数器模块(TCSPC)\n",
    "     + PicoHarp 300\n",
    "     + 4ps时间分辨率对检测事件加时间戳\n",
    " + 聚焦\n",
    "     + 75mm消色差双合透镜\n",
    "     + 型号: Thorlabs AC254-075-A-ML\n",
    " + 滤光\n",
    "     + 激光线滤光器\n",
    "     + 型号: Thorlabs FL670-1\n",
    " + 分束器\n",
    "     + 偏振分束器\n",
    "     + 型号： Thorlabs PBS251\n",
    "     + 将检测光学系统与有源光源同轴对准\n",
    " + 光源\n",
    "     + 由670 nm波长脉冲激光二极管组成\n",
    "     + 型号：ALPHALAS PICOPOWER-LD-670-50\n",
    "     + 脉冲宽度为30.6ps\n",
    "     + 重复频率为10MHz\n",
    "     + 平均功率为0.11mW\n",
    " + 扫描电流计\n",
    "     + 2轴扫描电流计光栅扫描距离系统大约2米的墙壁上的照明和检测点\n",
    "     + 型号: Thorlabs GVS012\n",
    "     + 通过一个倾斜角度扫描\n",
    " + 对抖动的说明和处理\n",
    "     + 在没有激光线路滤波器的情况下，整个系统的测量抖动约为60 ps\n",
    "     + 在滤波器打开时，测得的抖动为200 ps\n",
    "     + 仅将滤波器用于室外实验以减少环境光\n",
    "     + 抖动的增加是由于滤波器的光谱传输特性通过时间带宽积影响成像系统的时间特性这一事实\n",
    "     + 适当选择谱线滤波器和脉冲激光可以减轻这种影响"
   ]
  },
  {
   "cell_type": "markdown",
   "metadata": {},
   "source": [
    "### Challenges with confocal scanning\n",
    "Unlike conventional approaches, a confocalized NLOS system exposes the detector to direct reflections. This can be problematic, because the overwhelmingly bright contribution of direct light reduces the SNR of the indirect signal in two ways. First, after detecting a photon, the SPAD sensor becomes inactive for approximately 75 ns and ignores any photons that strike the detector for this period of time (commonly referred to as the dead time of the device). If the contribution of direct light is too strong, this reduces the detection probability of indirect photons. Second, approximately 0.1% of detected photon events produce a secondary event due to an effect known as afterpulsing. The contribution of direct photons therefore increases the number of spurious photons detected by the SPAD, further reducing the SNR of the indirect signal. \n",
    "To avoid the negative effects of a strong direct signal, a time-gated SPAD could be used for detection to gate out photons due to direct light.16 Given that our SPAD operates in free-running mode, we instead illuminate and image two slightly different points on a wall to reduce the contribution of direct light. The distance between these points should be sufficiently small so as to not affect the confocal image formation model."
   ]
  },
  {
   "cell_type": "markdown",
   "metadata": {},
   "source": [
    "#### 共焦扫描的挑战\n",
    "共焦NLOS系统会降低间接信号的SNR\n",
    " + 与传统方法不同，共焦NLOS系统使探测器暴露于直接反射\n",
    " + 直接光的绝对明亮会以两种方式降低间接信号的SNR\n",
    "     + 首先，在检测到光子之后，SPAD传感器变为无效约75ns并忽略在这段时间内撞击检测器的任何光子（通常称为器件的死区时间）。如果直射光的贡献太强，则会降低间接光子的检测概率。\n",
    "     + 其次，由于称为后脉冲的效应，大约0.1％的检测到的光子事件产生了二次事件。\n",
    "     + 因此，直接光子的贡献增加了SPAD检测到的伪光子的数量，进一步降低了间接信号的SNR。\n",
    "降低强直接信号的负面影响的方法：\n",
    " + 使用时间选通SPAD来检测而对光子进行门控(due to direct light).\n",
    " + 鉴于我们的SPAD在自由运行模式下运行，我们在墙上照亮并成像两个稍微不同的点，以减少直射光的贡献。 这些点之间的距离应足够小，以免影响共焦图像形成模型。\n",
    "     "
   ]
  },
  {
   "cell_type": "markdown",
   "metadata": {},
   "source": [
    "### System calibration\n",
    "The first calibration step involves aligning the detector and light source by adjusting the position of the beamsplitter to maximize the photon count rate. When perfectly aligned, the strong direct signal significantly reduces the number of indirect photons detected by the SPAD. Therefore, the second step involves slightly adjusting the position of the beamsplitter to decrease the direct photon counts and increase the indirect photon counts originating from a hidden retroreflector placed within the scene (e.g., the exit sign). The SPAD detected between 0.29 and 1 million counts per second for all experiments (i.e., the number of detected events ranged between 2.9% and 10% of the total number of pulses). For the final step, the system scans a 6 $\\times$ 6 grid of points on the wall and uses the time of arrival of direct photons and known galvanometer mirror angles to compute the relative position and orientation of the wall relative to the system."
   ]
  },
  {
   "cell_type": "markdown",
   "metadata": {},
   "source": [
    "#### 系统校准\n",
    "系统校准分为三步:\n",
    " + step1: 通过调整分束器的位置来对准检测器和光源，以使光子计数率最大化。\n",
    " \n",
    "当完美对齐时，强直接信号显着减少了SPAD检测到的间接光子的数量。\n",
    " + step2: 稍微调整分束器的位置以减少直接光子计数并增加源自放置在场景内的隐藏后向反射器（例如，出口标志）的间接光子计数。\n",
    " \n",
    "对于所有实验，SPAD检测每秒0.29至100万次计数（即，检测到的事件的数量在脉冲总数的2.9％至10％之间）。\n",
    "\n",
    " + step3: 系统扫描墙上的6 * 6网格点，并使用直接光子的到达时间和已知的检流计镜角度来计算墙相对于系统的相对位置和方向。\n"
   ]
  },
  {
   "cell_type": "markdown",
   "metadata": {},
   "source": [
    "### Acquisition procedure\n",
    "The system scans 64 $\\times$ 64    equidistant points on awall for indoor experiments,and32 $\\times$ 32 points for the outdoor experiment. At a 10MHz repetition rate, the PicoHarp 300 returns unprocessed histograms containing25,000 bins with a temporal resolution of 4 ps per bin. The acquired histograms are temporally aligned such that the direct pulses appear at time t =0. Histograms are then trimmed to either 2048 bins for indoor experiments or 4096 bins for the outdoor experiment. The ﬁrst 600 bins are set to 0 to remove the direct component. The histograms are then downsampled by a factor of 4 to either 512 or 1024 bins before processing,where each bin now has a temporal resolution of 16ps. The acquisition time for each histogram is either 0.1sor 1s, as indicated for each respective experiment.\n"
   ]
  },
  {
   "cell_type": "markdown",
   "metadata": {},
   "source": [
    "#### 获得程序\n",
    " + 扫描墙的范围\n",
    "     + 系统扫描墙上64 * 64等距点进行室内实验，32 * 32点进行室外实验\n",
    " + PicoHarp 300 时间相关单光子计数器模块(TCSPC)(检测事件)\n",
    "     + 在10MHz的重复频率下，PicoHarp 300返回包含25,000个二进制数据的未处理直方图，每个二进制数据的时间分辨率为4 ps。 \n",
    "     + 所获取的直方图在时间上对齐，使得直接脉冲出现在时间t = 0。 \n",
    "     + 将直方图修剪为2048个二进制数据用于室内实验 或 4096个二进制数据用于室外实验。\n",
    "     + 将前600个二进制文件设置为0以移除直接分量。\n",
    "     + 然后在处理之前将直方图下采样4倍至512或1024个二进制数据，其中每个区间现在具有16ps的时间分辨率。 \n",
    "     + 每个直方图的采集时间为0.1μs1s，如每个相应实验所示。"
   ]
  },
  {
   "cell_type": "markdown",
   "metadata": {},
   "source": [
    "### Validating radiometric falloff \n",
    "To verify the radiometric intensity falloff in the proposed image formation model, we measure the intensity of a small patch behind the wall while varying the distance between the NLOS patch and the sampled wall. Figure 1 shows the intensity response for several different materials: a diffuse patch and retroreflective patches of different grades (“engineering” grade and “diamond” grade). For the diffuse patch, measurements (blue circles) closely match the predicted $\\frac{1}{r^{4}}$ falloff (blue line), where r is the distance between patch and wall. Similarly, the diamond grade retroreflective material (red circles) closely matches the predicted  $\\frac{1}{r^{2}}$falloff (red line). Lower-quality retroreflectors, such as the engineering grade retroreflective material or most retroreflective paints, exhibit a falloff that is somewhere between diffuse and perfectly retroreflective. The engineering grade retroreflective material (green circles), for example, can be modeled by a falloff term of $\\frac{1}{r^{2.3}}$  (green line).\n",
    "<center>\n",
    "<img src=\"http://github.com/gengruixu/picture_database/blob/master/Nature25489/NLOS_s1_1.jpg?raw=true\" width=\"70%\"/>\n",
    "Figure1 Validating radiometric falloff \n",
    "</center>\n",
    "\n"
   ]
  },
  {
   "cell_type": "markdown",
   "metadata": {},
   "source": [
    "#### 验证辐射衰减\n",
    "+ 验证方案：\n",
    "     + 为了验证所提出的图像形成模型中的辐射强度衰减，我们改变NLOS小贴片和采样壁之间的距离，并测量墙后面的小贴片上的(辐射)强度。\n",
    "+ 验证结果:\n",
    "     + 图1显示了几种不同材料的强度响应：不同等级的漫反射贴片和逆向反射贴片（“工程”级和“钻石级”）。\n",
    "+ 验证结论：\n",
    "     + 漫反射贴片(patch): $\\frac{1}{r^{4}}$衰减(蓝色线)\n",
    "     + 钻石级逆向反射贴片(材料)(完全逆向反射): $\\frac{1}{r^{2}}$衰减(红色线)\n",
    "     + 较低质量的逆向反射材料，例如工程级逆向反射材料或大多数逆向反射涂料，表现出在漫射和完全逆向反射之间的衰减。\n",
    "         + 比如, 工程级逆向反射材料: $\\frac{1}{r^{2.3}}$衰减 (绿色线)\n",
    "     + 注: r是贴片材料和墙之间的距离\n",
    "     \n",
    "     \n",
    "<center>\n",
    "<img src=\"http://github.com/gengruixu/picture_database/blob/master/Nature25489/NLOS_s1_2.jpg?raw=true\" width=\"70%\"/>\n",
    "图1 辐射强度衰减的验证\n",
    "</center>\n"
   ]
  },
  {
   "cell_type": "markdown",
   "metadata": {},
   "source": [
    "### Image formation\n",
    "We briefly review the conventional NLOS formulation that models the indirect light transport that occurs between two different points on a wall. Several simplifying assumptions are made in the derivation of this image formation model (see below), resulting in an approximation of the physical light transport process. We then introduce the confocal NLOS image formation model, followed by the light cone transform and a discretization of the proposed model."
   ]
  },
  {
   "cell_type": "markdown",
   "metadata": {},
   "source": [
    "##### 图像的形成\n",
    "这一部分主要包括如下内容\n",
    " + 简要回顾了传统的NLOS公式\n",
    "     + 该公式模拟了墙壁上两个不同点之间发生的间接光传输\n",
    "     +  在推导该图像形成模型（见下文）中进行了几个简化假设，从而得到物理光传输过程的近似值\n",
    " + 介绍共焦NLOS图像形成模型\n",
    " + 光锥变换\n",
    " + 所提出模型的离散化\n"
   ]
  },
  {
   "cell_type": "markdown",
   "metadata": {},
   "source": [
    "#### Conventional non-line-of-sight imaging\n",
    "As illustrated in Figure 2, conventional NLOS imaging records a transient image[14,25–27] of a flat wall with a time-resolved detector while sequentially illuminating points on the wall with an ultra-short laser pulse.14–19 The geometry and albedo of the wall is assumed to be known or it can be scanned in a pre-processing step. Without loss of generality, we model the wall as a reference plane at position z = 0. The recorded transient image τ is\n",
    "\n",
    "<center>\n",
    "    equation (5)\n",
    "</center>\n",
    "$$\\tau(x',y',t)=\\int\\int\\int_{\\Omega}\\frac{1}{r_{l}^{2}r^{2}}\\rho(x,y,z)\\delta(\\sqrt{(x'-x)^{2}+(y'-y)^{2}+z^{2}}+\\sqrt{(x_{l}-x)^{2}+(y_{l}^{2}-y^{2})+z^{2}}-tc)dxdydz$$\n",
    "Here, $\\rho$ is the sought-after albedo of the hidden scene at each point in the three-dimensional half-space Ω satisfying z > 0. The transient image is recorded while the light source illuminates position x1,y1 on the wall with an ultrashort pulse. This pulse is diffusely reflected off the wall and then scattered by the hidden scene back towards the wall. The radiometric term $\\frac{1}{r_{l}^{2}r^{2}}$ models the square distance falloff using the distance $r_l$ between $x_l$,$y_l$ and some hidden scene point x,y,z, as well as the distance r from that point to the sampled detector position on the wall x',y'. This equation can be discretized as $\\tau = A\\rho$ and solved with an iterative numerical approach that does not require A to be directly inverted.\n",
    "\n",
    "The conventional NLOS image formation model makes the following assumptions: there is only single scattering behind the wall (i.e., no inter-reflections in the hidden scene parts), and there are no occlusions between hidden scene parts. We also assume surfaces reflect light isotropically (i.e., the ratio of reflected radiance is independent of both the incident light direction and outgoing view direction), in order to avoid the added complexity of introducing Lambert’s cosine terms to model diffuse surface reflections."
   ]
  },
  {
   "cell_type": "markdown",
   "metadata": {},
   "source": [
    "##### 传统非视距成像\n",
    "如图2所示，传统的NLOS成像使用时间分辨探测器记录平面墙的瞬态图像[14,25-27]，同时使用超短激光脉冲顺序照射墙壁上的点[14-19].假设墙壁的几何形状和反照率是已知的或是可以在预处理步骤中扫描得到。 在不失一般性的情况下，我们将壁模型化为位置z = 0处的参考平面。记录的瞬态图像τ是\n",
    "<center>\n",
    "    equation (5)\n",
    "</center>\n",
    "$$\\tau(x',y',t)=\\int\\int\\int_{\\Omega}\\frac{1}{r_{l}^{2}r^{2}}\\rho(x,y,z)\\delta(\\sqrt{(x'-x)^{2}+(y'-y)^{2}+z^{2}}+\\sqrt{(x_{l}-x)^{2}+(y_{l}^{2}-y^{2})+z^{2}}-tc)dxdydz$$\n",
    "\n",
    "在这里，$ \\rho $是在三维的半空间Ω中满足z> 0的每个点处的隐藏场景的抢占反照率。记录瞬态图像，同时光源用超短脉冲照射墙壁上的位置x1，y1。该脉冲从墙壁漫反射，然后被隐藏的场景散射回墙壁。辐射度项$ \\frac{1}{r_ {l}^{2}r^{2}} $使用$ x_l$，$y_l$和一些隐藏的场景点x,y,z之间的距离$r_l $以及从该点到墙壁x'，y'上的采样探测器位置的距离r模拟平方距离衰减。该等式可以离散化为$ \\tau = A \\rho $，并通过迭代数值方法求解，该方法不需要直接反转A.\n",
    "\n",
    "传统的NLOS图像形成模型做出以下假设：在墙后面仅存在单个散射（即，隐藏的场景部分中没有相互反射），并且在隐藏的场景部分之间没有遮挡。 我们还假设表面各向同性地反射光（即，反射辐射的比率与入射光方向和出射视图方向无关），以避免引入朗伯的余弦项以模拟漫反射表面反射的额外复杂性。"
   ]
  },
  {
   "cell_type": "markdown",
   "metadata": {},
   "source": [
    "#### Confocal non-line-of-sight imaging\n",
    "Instead of exhaustively scanning different combinations of light source positions xl,yl and detector positions x',y' on the wall, confocal NLOS imaging is a sequential scanning approach where the light source and a single detector are co-axial, or “confocalized”. Data recorded with a confocal NLOS setup thus represents a subset of the samples required by conventional NLOS imaging. One of the primary benefits of the confocal setup is that it is consistent with existing scanned LIDAR systems that often use avalanche photodiodes (APDs) or single photon avalanche diodes (SPADs). The proposed signal processing approach to NLOS imaging may therefore be compatible with many existing scanners.\n",
    "\n",
    "Here, the transient image on the wall is given by\n",
    "<center>\n",
    "$$\\tau(x',y',t)=\\int\\int\\int_{\\Omega}\\frac{1}{r^{4}}\\rho(x,y,z)\\delta(2\\sqrt{(x'-x)^{2}+(y'-y)^{2}+z^{2}}-tc)dxdydz$$\n",
    "    equation (6)\n",
    "</center>\n",
    "\n",
    "This image formation model shares the same assumptions as Equation (5) (i.e., no multi-bounce transport, no occlusions, and isotropic scattering).\n",
    "\n",
    "Equation (6) is a laterally (i.e., in x and y) shift-invariant convolution. The convolution kernel is the surface of a spatio-temporal 4D hypercone\n",
    "$$x^{2}+y^{2}+z^{2}-(\\frac{tc}{2})^{2}=0$$\n",
    "\n",
    "\n",
    "This formulation for light propagation is similar to Minkowski’s light cone used in special relativity[28],except that it models a spherical wavefront propagating at half the speed of light.\n"
   ]
  },
  {
   "cell_type": "markdown",
   "metadata": {},
   "source": [
    "#####  共焦非视距成像\n",
    "共焦NLOS成像是顺序扫描方法，而不是彻底扫描壁上的光源位置x1，y1和探测器位置x'，y'的不同组合。其中光源和单个探测器是同轴的，或“共焦的”。因此，用共焦NLOS设置记录的数据是传统NLOS成像所需的样本的子集。共焦设置的主要优点之一是它与通常使用雪崩光电二极管（APD）或单光子雪崩二极管（SPAD）的现有扫描LIDAR系统一致。 因此，所提出的NLOS成像的信号处理方法可以与许多现有的扫描仪兼容。\n",
    "\n",
    "这里，墙上的瞬态图像由下式给出\n",
    "<center>\n",
    "$$\\tau(x',y',t)=\\int\\int\\int_{\\Omega}\\frac{1}{r^{4}}\\rho(x,y,z)\\delta(2\\sqrt{(x'-x)^{2}+(y'-y)^{2}+z^{2}}-tc)dxdydz$$\n",
    "    equation (6)\n",
    "</center>\n",
    "\n",
    "该图像形成模型与等式（5）具有相同的假设（即，没有多次反弹传输，没有遮挡和各向同性散射）。\n",
    "\n",
    "等式（6）是横向（即，在x和y中）移位不变卷积。 卷积核是时空4D超锥的表面\n",
    "$$x^{2}+y^{2}+z^{2}-(\\frac{tc}{2})^{2}=0$$\n",
    "\n",
    "这种用于光传播的公式类似于狭义相对论中使用的Minkowski光锥[28]，不同之处在于它模拟了以光速的一半传播的球面波。"
   ]
  },
  {
   "cell_type": "markdown",
   "metadata": {},
   "source": [
    "#### Dirac delta identity\n",
    "The image formation model of Equation (6) can be rewritten in a more convenient form by squaring and scaling the arguments of the Dirac delta with the following identity:\n",
    "<center>\n",
    "<img src=\"http://github.com/gengruixu/picture_database/blob/master/Nature25489/eq8.png?raw=true\" width=\"70%\"/>\n",
    "    equation (8)\n",
    "</center>\n",
    "\n",
    "where we denote x = (x,y,z) and x0 = (x0,y0,0) for simplicity.\n",
    "\n",
    "<font color = red face = \"黑体\">Proof:</font>\tThe Dirac delta function can be expressed as the limit of a sequence of normalized functions[30]\n",
    "$$\\delta(x)=\\lim_{\\epsilon \\to 0^{+}}k_{\\epsilon}(x)=\\lim_{\\epsilon \\to 0^{+}}\\frac{1}{\\epsilon}k(\\frac{x}{\\epsilon})$$\n",
    "For example, the limit of a sequence of normalized hat functions (i.e., k(x) = max(1-|x|,0)) is the Dirac delta function. The following uses this definition and a change of variables, $\\epsilon=\\epsilon^{'}\\frac{4}{2||x'-x||_{2}+tc}$, to derive Equation (8):\n",
    "<center>\n",
    "<img src=\"http://github.com/gengruixu/picture_database/blob/master/Nature25489/eq10.png?raw=true\" width=\"70%\"/>\n",
    "    equation (10)\n",
    "</center>"
   ]
  },
  {
   "cell_type": "markdown",
   "metadata": {},
   "source": [
    "#####  狄拉克$\\delta$恒等式\n",
    "\n",
    "等式（6）的图像形成模型可以通过使用以下标识对狄拉克$\\delta$等式进行平方和缩放来以更方便的形式重写：\n",
    "\n",
    "<center>\n",
    "<img src=\"http://github.com/gengruixu/picture_database/blob/master/Nature25489/eq8.png?raw=true\" width=\"70%\"/>\n",
    "    equation (8)\n",
    "</center>\n",
    "\n",
    "其中我们表示x =（x，y，z）和x0 =（x0，y0,0）以对形式进行简化。\n",
    "\n",
    "证: 狄拉克δ函数可以表示为一系列归一化函数的极限[30]\n",
    "\n",
    "$$\\delta(x)=\\lim_{\\epsilon \\to 0^{+}}k_{\\epsilon}(x)=\\lim_{\\epsilon \\to 0^{+}}\\frac{1}{\\epsilon}k(\\frac{x}{\\epsilon})$$\n",
    "\n",
    "例如，归一化的帽函数序列的极限（即，k（x）= max（1- | x |，0））是狄拉克δ函数。 以下使用此定义并更改变量$ \\epsilon = \\epsilon' \\frac {4} {2||x'-x||_{2} + tc}$，以导出等式（8）：\n",
    "<center>\n",
    "<img src=\"http://github.com/gengruixu/picture_database/blob/master/Nature25489/eq10.png?raw=true\" width=\"70%\"/>\n",
    "    equation (10)\n",
    "</center>"
   ]
  },
  {
   "cell_type": "markdown",
   "metadata": {},
   "source": [
    "#### Radiometric considerations\n",
    "One of several interesting and unique properties of confocal NLOS imaging is that the distance function r is directly related to the measured time-of-flight as\n",
    "<center>\n",
    "<img src=\"http://github.com/gengruixu/picture_database/blob/master/Nature25489/eq11.png?raw=true\" width=\"70%\"/>\n",
    "    equation (11)\n",
    "</center>\n",
    "\n",
    "Therefore, the corresponding radiometric term, $\\frac{1}{r^{4}}$, can be pulled out of the triple integral of Equation (6). For conventional NLOS imaging, we only know the combined distance rl + r = tc, but we cannot easily use this information to replace the radiometric falloff term $\\frac{1}{r_{l}^{2}r^{2}}$ in Equation (5).\n",
    "\n",
    "Another important property is that retroreflective materials can be modeled by replacing the radiometric falloff term  $\\frac{1}{r^{4}}$ with $\\frac{1}{r^{2}}$, signifying a drastic increase in the indirect light signal as a function of distance r. Retroreflective materials cannot be handled appropriately by existing non-confocal NLOS methods.\n"
   ]
  },
  {
   "cell_type": "markdown",
   "metadata": {},
   "source": [
    "##### 传播距离的考虑因素\n",
    "\n",
    "共聚焦NLOS成像的几个有趣且独特的特性之一是距离函数r与测量的TOF(time of flight)直接相关.\n",
    "\n",
    "<center>\n",
    "<img src=\"http://github.com/gengruixu/picture_database/blob/master/Nature25489/eq11.png?raw=true\" width=\"70%\"/>\n",
    "    equation (11)\n",
    "</center>\n",
    "\n",
    "\n",
    "因此，相应的辐射度项$ \\frac{1}{r^{4}} $可以从等式（6）的三重积分中拉出。对于传统的NLOS成像，我们只知道组合距离rl + r = tc，但是我们不能轻易地使用这些信息来代替公式（5）中的辐射衰减项 $ \\frac{1}{r_{l}^{2}r^{2}}$ 。\n",
    "\n",
    "另一个重要特性是逆向反射材料可以通过用$\\frac{1}{r^{2}}$替换辐射衰减项$\\frac{1}{r^{4}}$来建模，意味着作为距离r的函数在间接光信号中的急剧增加。现有的非共焦NLOS方法无法适当地处理逆向反射材料。\n"
   ]
  },
  {
   "cell_type": "markdown",
   "metadata": {},
   "source": [
    "#### The light cone transform\n",
    "We propose the light cone transform (LCT) that expresses the confocal NLOS image formation model as a shift-invariant 3D convolution in the transform domain. The LCT is a computationally efficient way for computing the forward model and, more importantly, leads to a closed-form expression for the inverse problem.\n",
    "\n",
    "We start by using the Dirac delta identity from Equation (8) to rewrite the image formation model in Equation (6) as\n",
    "\n",
    "$$\\tau(x',y',t)=\\int\\int\\int_{\\Omega}\\frac{1}{r^{3}}\\rho(x,y,z)\\delta((x'-x)^{2}+(y'-y)^{2}+z^{2}-(\\frac{tc}{2})^{2})dxdydz$$\n",
    "\n",
    "Next, we pull out the radiometric term from the integral and perform a change of variables by letting $z=\\sqrt{u}$, $\\frac{dz}{du}=\\frac{1}{2\\sqrt{u}}$  such that\n",
    "\n",
    "$$\\tau(x',y',t)=(\\frac{2}{tc})^{3}\\int\\int\\int_{\\Omega}\\rho(x,y,\\sqrt(u))\\delta((x'-x)^{2}+(y'-y)^{2}+u-(\\frac{tc}{2})^{2})\\frac{1}{2\\sqrt(u)}dxdydu$$\n",
    "\n",
    "We also introduce a second change of variables using $v=({\\frac{tc}{2}})^{2}$, such that\n",
    "<center>\n",
    "<img src=\"http://github.com/gengruixu/picture_database/blob/master/Nature25489/eq14.png?raw=true\" width=\"50%\"/>\n",
    "    equation (14)\n",
    "</center>\n",
    "\n",
    "The image formation model is a 3D convolution, which can alternatively be written as \n",
    "\n",
    "$$R_{t}\\{\\tau\\}=h*R_{z}\\{\\rho\\}$$\n",
    "\n",
    "where * is the 3D convolution operator, h is the shift-invariant convolution kernel, Rz {·} resamples $\\rho$ along the z-axis and attenuates the result by 1/2$\\sqrt{u}$, and Rt {·} resamples $\\rho$ along the time axis and scales the result by $v^{\\frac{3}{2}}$ . Note that a similar transform is not known to exist for the conventional NLOS problem, and that the LCT is specific to the confocal case.\n"
   ]
  },
  {
   "cell_type": "markdown",
   "metadata": {},
   "source": [
    "#####  光锥变换\n",
    "我们提出了光锥变换（LCT），其将共焦NLOS图像形成模型表示为变换域中的移位不变3D卷积。 LCT是计算正向模型的高效算法，更重要的是，它会使逆问题有闭式的表达式。\n",
    "\n",
    "我们首先使用来自等式（8）的Dirac delta同一性将等式（6）中的图像形成模型重写为\n",
    "\n",
    "$$\\tau(x',y',t)=\\int\\int\\int_{\\Omega}\\frac{1}{r^{3}}\\rho(x,y,z)\\delta((x'-x)^{2}+(y'-y)^{2}+z^{2}-(\\frac{tc}{2})^{2})dxdydz$$\n",
    "\n",
    "接下来，我们从积分中拉出辐射度项，并通过$z=\\sqrt{u}$, $\\frac{dz}{du}=\\frac{1}{2\\sqrt{u}}$替换变量，使得\n",
    "\n",
    "$$\\tau(x',y',t)=(\\frac{2}{tc})^{3}\\int\\int\\int_{\\Omega}\\rho(x,y,\\sqrt(u))\\delta((x'-x)^{2}+(y'-y)^{2}+u-(\\frac{tc}{2})^{2})\\frac{1}{2\\sqrt(u)}dxdydu$$\n",
    "\n",
    "\n",
    "我们再次替换变量$v=({\\frac{tc}{2}})^{2}$，进而有\n",
    "<center>\n",
    "<img src=\"http://github.com/gengruixu/picture_database/blob/master/Nature25489/eq14.png?raw=true\" width=\"50%\"/>\n",
    "    equation (14)\n",
    "</center>\n",
    "\n",
    "图像形成模型是3D卷积，可以写为\n",
    "\n",
    "$$R_{t}\\{\\tau\\}=h*R_{z}\\{\\rho\\}$$\n",
    "\n",
    "其中\\*是3D卷积运算符，h是移位不变卷积核，Rz {·}沿z轴重新采样$ \\rho $并将结果衰减为1/2$\\sqrt{u}$，Rt { ·}沿时间轴重新采样$\\rho$并按$v^{\\frac{3}{2}}$ 缩放结果.注意，对于传统的NLOS问题，不存在类似的变换，并且LCT专门用于共焦情况。"
   ]
  },
  {
   "cell_type": "markdown",
   "metadata": {},
   "source": [
    "#### Discretizing the image formation\n",
    "The transforms introduced with the continuous image formation model (Equation (15)) are implemented as discrete operations in practice. For example, the operation $R_{t}\\{\\tau\\}$ can be represented as an integral transform\n",
    "<center>\n",
    "<img src=\"http://github.com/gengruixu/picture_database/blob/master/Nature25489/eq16.png?raw=true\" width=\"50%\"/>\n",
    "    equation (16)\n",
    "</center>\n",
    "\n",
    "Note that this transformation applies to all points (x',y') independently.\n",
    "\n",
    "The discrete analog of this transform is given by a matrix-vector multiplication $R_{t}\\{\\tau\\}$, between the vectorized representation of the transient image $\\tau\\in \\mathbb{R}_{+}^{n_{x}n_{y}n_{t}}$  and matrix $\\textbf{R}_{t}\\in \\mathbb{R}_{+}^{n_{x}n_{y}n_{h}\\times n_{x}n_{y}n_{t}}$ . Consider the case of a single measurement on the wall (i.e., $n_{x} = 1$ and $n_{y} = 1$), where $\\Omega_{xy}$ is the region sampled by the detector. The individual elements of the vectorized transient image and corresponding transform matrix are then given by\n",
    "\n",
    "<center>\n",
    "<img src=\"http://github.com/gengruixu/picture_database/blob/master/Nature25489/eq16.png?raw=true\" width=\"50%\"/>\n",
    "    equation (17)\n",
    "</center>\n",
    "where $ 1 \\leqslant i \\leqslant n_{h}$ and $1 \\leqslant j \\leqslant n_{t}$. Here, the transient image is defined over a range of time values $[a,b] \\in (0,\\infty)$, which is uniformly discretized into $n_{t}$ equal spaces such that $a = t_0 < t_1 < ··· < t_{n_{t}} = b$. Similarly, the matrix $\\textbf {R}_{t}$ resamples the transient image into $n_h$ elements where $(\\frac{ca}{2})^{2}=h_{0}< h_{1} < ··· < h_{n_{h}} = (\\frac{cb}{2})^{2}$ .\n",
    "\n",
    "The corresponding discrete analog of the transformation $R_{z}\\{\\rho\\}$ is similarly defined as a matrix-vector product $R_{z} \\rho $, between the vectorized representation of unknown surface albedos $\\rho \\in \\mathbb{R}_{+}^{n_{x}n_{y}n_{z}}$  and matrix $\\textbf{R}_{z}\\in \\mathbb{R}_{+}^{n_{x}n_{y}n_{h}\\times n_{x}n_{y}n_{z}}$ . The elements are defined as\n",
    "\n",
    "<center>\n",
    "<img src=\"http://github.com/gengruixu/picture_database/blob/master/Nature25489/eq18.png?raw=true\" width=\"50%\"/>\n",
    "    equation (18)\n",
    "</center>\n",
    "\n",
    "where $ 1 \\leqslant i \\leqslant n_{z}$ and $(\\frac{ca}{2})=z_{0}< z_{1} < ··· < z_{n_{z}} = (\\frac{cb}{2})$ .\n",
    "\n",
    "The full discrete image formation model is therefore\n",
    "\n",
    "$$\\tau = \\textbf{A} \\rho = \\textbf{R}_t^{-1}\\textbf{H}\\textbf{R}_{z}\\rho$$\n",
    "\n",
    "where the matrix $A=\\textbf{R}_t^{-1}\\textbf{H}\\textbf{R}_{z}$ is referred to as the light transport matrix. Note that each of these matrices is independently applied to the respective dimension and can therefore be applied to large-scale datasets in a memory efficient way. The matrix $\\textbf{H} \\in \\mathbb{R}_{+}^{n_{x}n_{y}n_{h}\\times n_{x}n_{y}n_{h}}$  represents the shift-invariant 3D convolution with the 4D hypercone (i.e., a convolution with a discretized version of the kernel h), which models light transport in free space in the transform domain. Together, these matrices represent the discrete light cone transform.\n",
    "\n",
    "The discrete light cone transform provides a fast and memory efficient approach to computing both forward light transport (i.e., $\\textbf{A}\\rho$) and inverse light transport (i.e., $\\textbf{A}^{-1}\\rho$) without forming any of the matrices explicitly. Computational efficiency is largely achieved using the convolution theorem to compute matrix-vector multiplications with \\textbf{H} as element-wise multiplications in the Fourier domain. Similarly, matrix-vector multiplications with their inverses are computed as element-wise divisions in the Fourier domain.\n"
   ]
  },
  {
   "cell_type": "markdown",
   "metadata": {},
   "source": [
    "#####  离散化的图像生成\n",
    "实践中我们需要将连续图像形成模型（等式（15））引入的变换实现为离散的操作。 例如，操作$ R_{t}\\{\\tau \\} $可以表示为整数变换\n",
    "\n",
    "<center>\n",
    "<img src=\"http://github.com/gengruixu/picture_database/blob/master/Nature25489/eq16.png?raw=true\" width=\"50%\"/>\n",
    "    equation (16)\n",
    "</center>\n",
    "\n",
    "请注意，此转换独立地适用于所有点（x'，y'）。\n",
    "\n",
    "该变换的离散模拟由矩阵向量乘法$R_{t}\\{\\tau\\}$给出，其中，$\\tau$是瞬态图像的矢量化表示$\\tau\\in \\mathbb{R}_{+}^{n_{x}n_{y}n_{t}}$，$R_{t}$矩阵是$\\textbf{R}_{t}\\in \\mathbb{R}_{+}^{n_{x}n_{y}n_{h}\\times n_{x}n_{y}n_{t}}$。考虑在墙上进行单次测量的情况（即$ n_ {x} = 1 $和$ n_ {y} = 1 $），其中$ \\Omega_{xy}$是检测器采样的区域。 然后给出矢量化瞬态图像和相应变换矩阵的各个元素\n",
    "\n",
    "<center>\n",
    "<img src=\"http://github.com/gengruixu/picture_database/blob/master/Nature25489/eq16.png?raw=true\" width=\"50%\"/>\n",
    "    equation (17)\n",
    "</center>\n",
    "\n",
    "其中$ 1 \\leqslant i \\leqslant n_ {h} $和$ 1 \\leqslant j \\leqslant n_{t} $。 这里，瞬态图像是在一系列时间值$ [a，b] \\in（0，\\infty）$中定义的，它们被均匀地离散化为等间隔的$ n_{t} $，这样$ a = t_0 <t_1 <···<t_{n_{t}} = b $。 同样，矩阵$ \\textbf {R} _{t} $将瞬态图像重新采样为$ n_h $个元素，其中$（\\frac {ca} {2}）^ {2} = h_{0} <h_{1} <···<h_{n_ {h}} =（\\frac {cb} {2}）^ {2} $。\n",
    "\n",
    "变换$ R_{z} \\{\\rho \\} $的相应离散模拟类似地定义为矩阵乘积$R_{z} \\rho $，其中$\\rho \\in \\mathbb{R}_{+}^{n_{x}n_{y}n_{z}}$，是未知表面反射率的向量表示；$\\textbf{R}_{z}\\in \\mathbb{R}_{+}^{n_{x}n_{y}n_{h}\\times n_{x}n_{y}n_{z}}$为矩阵。各个元素定义为\n",
    "\n",
    "<center>\n",
    "<img src=\"http://github.com/gengruixu/picture_database/blob/master/Nature25489/eq18.png?raw=true\" width=\"50%\"/>\n",
    "    equation (18)\n",
    "</center>\n",
    "\n",
    "其中，$ 1 \\leqslant i \\leqslant n_{z}$ 且 $(\\frac{ca}{2})=z_{0}< z_{1} < ··· < z_{n_{z}} = (\\frac{cb}{2})$ .\n",
    "\n",
    "综上所述，离散化图像生成模型为\n",
    "\n",
    "$$\\tau = \\textbf{A} \\rho = \\textbf{R}_t^{-1}\\textbf{H}\\textbf{R}_{z}\\rho$$\n",
    "\n",
    "其中，矩阵$ A = \\textbf {R}_t ^{-1} \\textbf {H} \\textbf {R}_ {z} $被称为光传输矩阵。 注意，这些矩阵中的每一个都独立地应用于相应的维度，因此可以高效存储并应用于大规模数据集。矩阵$\\textbf{H} \\in \\mathbb{R}_{+}^{n_{x}n_{y}n_{h}\\times n_{x}n_{y}n_{h}}$代表了4D超锥(比如具有离散化版本的核h的卷积)的平移不变3D卷积，其是对变换域中的自由空间的光传输的建模。这些矩阵一起代表离散的光锥变换。\n",
    "\n",
    "离散光锥变换提供了一种快速且存储高效的方法来计算前向光传输（即$ \\textbf {A} \\rho $）和反向光传输（即$ \\textbf {A} ^{-1} \\rho $）且没有明确地形成任何矩阵。使用卷积定理在很大程度上提高了计算效率，以使用$\\textbf {H}$计算矩阵向量乘法，作为傅立叶域中的元素乘法。 类似地，矩阵向量乘法及其逆也作为傅里叶域中的元素划分被计算。\n",
    "\n"
   ]
  },
  {
   "cell_type": "markdown",
   "metadata": {},
   "source": [
    "### Inverse methods\n"
   ]
  },
  {
   "cell_type": "markdown",
   "metadata": {},
   "source": [
    "Here, we derive a closed-form solution for the discrete NLOS problem. We first assume that the noise model associated with the discrete light transform model in Equation (19) satisfies\n",
    "\n",
    "<center>\n",
    "<img src=\"http://github.com/gengruixu/picture_database/blob/master/Nature25489/eq20.png?raw=true\" width=\"10%\"/>\n",
    "    equation (20)\n",
    "</center>\n",
    "\n",
    "where $\\tilde{\\tau}=\\textbf{R}_{t} \\tau$, $\\tilde{\\rho}=\\textbf{R}_{z} \\rho$, and $\\eta \\in \\mathbb{R}^{n_{x}n_{y}n_{h}}$ is white noise.\n",
    "\n",
    "The solution $\\tilde{\\rho}_{*}$ that minimizes the mean square error with respect to the ground truth solution $\\tilde{\\rho}_{*}$ is well known to be given by the Wiener deconvolution filter:[29]\n",
    "\n",
    "<center>\n",
    "<img src=\"http://github.com/gengruixu/picture_database/blob/master/Nature25489/eq21.png?raw=true\" width=\"40%\"/>\n",
    "    equation (21)\n",
    "</center>\n",
    "\n",
    "where the matrix $\\textbf{F}$ represents the 3D discrete Fourier transform and $\\hat{\\textbf{H}}$ is a diagonal matrix containing the Fourier transform of the shift-invariant 3D convolution kernel. $\\alpha$ is a frequency-dependent term representing the signal-tonoise ratio (SNR).\n",
    "\n",
    "Expanding Equation (21) results in the closed-form solution for the confocal NLOS problem:\n",
    "\n",
    "<center>\n",
    "<img src=\"http://github.com/gengruixu/picture_database/blob/master/Nature25489/eq22.png?raw=true\" width=\"40%\"/>\n",
    "    equation (22)\n",
    "</center>\n",
    "\n",
    "In the Supplementary Derivations, we also outline a maximum a posteriori estimator for the reconstruction problem that lifts these assumptions on the noise model and that also allows image priors to be imposed on the reconstructed volume. "
   ]
  },
  {
   "cell_type": "markdown",
   "metadata": {},
   "source": [
    "#### 逆方法\n",
    "在这里，我们为离散的NLOS问题推导出一种封闭形式的解决方案。 我们首先假设与等式（19）中的离散光变换模型相关联的噪声模型满足\n",
    "\n",
    "<center>\n",
    "<img src=\"http://github.com/gengruixu/picture_database/blob/master/Nature25489/eq20.png?raw=true\" width=\"10%\"/>\n",
    "    equation (20)\n",
    "</center>\n",
    "\n",
    "其中， $\\tilde{\\tau}=\\textbf{R}_{t} \\tau$, $\\tilde{\\rho}=\\textbf{R}_{z} \\rho$, 和 $\\eta \\in \\mathbb{R}^{n_{x}n_{y}n_{h}}$ 是白噪声.\n",
    "\n",
    "由Wiener反卷积滤波器给出的解决方案$\\tilde{\\rho}_{*}$ 最大限度地减少了与地面实际解决方案相关的均方误差$\\tilde{\\rho}_{*}$：[29]\n",
    "\n",
    "<center>\n",
    "<img src=\"http://github.com/gengruixu/picture_database/blob/master/Nature25489/eq21.png?raw=true\" width=\"40%\"/>\n",
    "    equation (21)\n",
    "</center>\n",
    "\n",
    "其中，矩阵$ \\textbf {F} $表示3D离散傅立叶变换，$ \\hat {\\textbf {H}} $是一个对角矩阵，包含移位不变3D卷积核的傅里叶变换。 $\\alpha$是表示信噪比（SNR）的频率相关项。\n",
    "\n",
    "扩展方程（21）得到共焦NLOS问题的封闭形式的解(closed-form solution)：\n",
    "\n",
    "<center>\n",
    "<img src=\"http://github.com/gengruixu/picture_database/blob/master/Nature25489/eq22.png?raw=true\" width=\"40%\"/>\n",
    "    equation (22)\n",
    "</center>\n",
    "\n",
    "在补充推导中，我们还概述了重建问题的最大后验估计，该估计提取了噪声模型上的这些假设，并且还允许将图像先验施加到重建的体积上。"
   ]
  },
  {
   "cell_type": "code",
   "execution_count": null,
   "metadata": {},
   "outputs": [],
   "source": []
  },
  {
   "cell_type": "code",
   "execution_count": null,
   "metadata": {},
   "outputs": [],
   "source": []
  }
 ],
 "metadata": {
  "kernelspec": {
   "display_name": "Matlab",
   "language": "matlab",
   "name": "matlab"
  },
  "toc": {
   "base_numbering": 1,
   "nav_menu": {},
   "number_sections": true,
   "sideBar": true,
   "skip_h1_title": false,
   "title_cell": "Table of Contents",
   "title_sidebar": "Contents",
   "toc_cell": false,
   "toc_position": {
    "height": "calc(100% - 180px)",
    "left": "10px",
    "top": "150px",
    "width": "373.333px"
   },
   "toc_section_display": true,
   "toc_window_display": false
  }
 },
 "nbformat": 4,
 "nbformat_minor": 2
}
