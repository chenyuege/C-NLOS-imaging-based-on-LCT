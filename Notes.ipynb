{
 "cells": [
  {
   "cell_type": "markdown",
   "metadata": {},
   "source": [
    "# Paper: Confocal non-line-of-sight based on the light-cone transform"
   ]
  },
  {
   "cell_type": "markdown",
   "metadata": {},
   "source": [
    "## Abstract\n",
    "How to image objects that are hidden from a camera’s view is a problem of fundamental importance to many fields of research1–20, with applications in robotic vision, defence, remote sensing, medical imaging and autonomous vehicles. Non-line-of-sight (NLOS) imaging at macroscopic scales has been demonstrated by scanning a visible surface with a pulsed laser and a time-resolved detector14–19. Whereas light detection and ranging (LIDAR) systems use such measurements to recover the shape of visible objects from direct reflections21–24, NLOS imaging reconstructs the shape and albedo of hidden objects from multiply scattered light. Despite recent advances, NLOS imaging has remained impractical owing to the prohibitive memory and processing requirements of existing reconstruction algorithms, and the extremely weak signal of multiply scattered light. Here we show that a confocal scanning procedure can address these challenges by facilitating the derivation of the light-cone transform to solve the NLOS reconstruction problem. This method requires much smaller computational and memory resources than previous reconstruction methods do and images hidden objects at unprecedented resolution. Confocal scanning also provides a sizeable increase in signal and range when imaging retroreflective objects. We quantify the resolution bounds of NLOS imaging, demonstrate its potential for real-time tracking and derive efficient algorithms that incorporate image priors and a physically accurate noise model. Additionally, we describe successful outdoor experiments of NLOS imaging under indirect sunlight. "
   ]
  },
  {
   "cell_type": "markdown",
   "metadata": {},
   "source": [
    "### 摘要中的重点\n",
    " + 非视距成像，即当照相机与物体之间有障碍物时的成像，有很多应用，包括在机器视觉，遥感，医学成像，自动驾驶等\n",
    " + 通过脉冲激光和时间分辨探测器扫描可见表面已经验证了宏观尺度上的非视距成像\n",
    " + 尽管NLOS最近取得了不少的进展，但NLOS成像仍旧不切实际，原因包括:\n",
    "     + 现有重建算法对于存储和处理速度的要求过高\n",
    "     + 多次散射后光信号极弱\n",
    " + 本文说明了共焦扫描可以通过促进光锥变换的实现来解决NLOS的重建问题\n",
    " + 这种基于光锥变换的共焦非视距成像的优点有：\n",
    "     + 时间复杂度低\n",
    "     + 空间复杂度低\n",
    "     + 成像分辨率高\n",
    "     + 当对逆向反射物体进行成像时，共焦扫描还可以显着增加信号和范围\n",
    " + 本文的其他工作\n",
    "     + 量化了NLOS成像的分辨率界限\n",
    "     + 展示了其实时跟踪的潜力\n",
    "     + 推导出包含图像先验和物理精确噪声模型的高效算法\n",
    "     + 描述了在间接阳光下成功进行NLOS成像的户外实验。\n",
    "     \n",
    " \n",
    " "
   ]
  },
  {
   "cell_type": "markdown",
   "metadata": {},
   "source": [
    "# Supplementary Information\n",
    "Confocal non-line-of-sight based on the light-cone transform"
   ]
  },
  {
   "cell_type": "markdown",
   "metadata": {},
   "source": [
    "## Supplementary Methods\n",
    "补充方法"
   ]
  },
  {
   "cell_type": "markdown",
   "metadata": {},
   "source": [
    "### Equipment details\n",
    "The time-resolved detector is a PDM series single photon avalanche diode (SPAD) from Micro Photon Devices with a 100 µm⇥ 100 µm active area, a reported 27 ps timing jitter (100 kHz laser at 675 nm), and 40.9 dark counts per second. Detection events are time stamped with 4ps temporal resolution using a PicoHarp 300 Time-Correlated Single Photon Counting (TCSPC) module. The detected light is focused by a 75mm achromatic doublet (Thorlabs AC254-075-A-ML), and filtered using a laser line filter (Thorlabs FL670-10). The detection optics are co-axially aligned with an active light source using a polarized beamsplitter (Thorlabs PBS251). The light source (ALPHALAS PICOPOWER-LD-670-50) consists of a 670 nm wavelength pulsed laser diode with a reported pulse width of 30.6ps at a 10MHz repetition rate and 0.11mW average power. A 2-axis scanning galvonometer (Thorlabs GVS012) raster scans the illumination and detection spots across a wall located approximately 2m from the system at an oblique angle. The measured jitter of the entire system is approximately 60 ps without the laser line filter, and 200 ps with the filter on. We only use the filter for the outdoor experiments to reduce ambient light. The increase in jitter is due to the fact that the spectral transmission properties of the filter affect the temporal characteristics of the imaging system via the time-bandwidth product.16 An appropriate choice of spectral line filter and pulsed laser could mitigate this effect.\n"
   ]
  },
  {
   "cell_type": "markdown",
   "metadata": {},
   "source": [
    "#### 实验装置\n",
    "实验装置包括：\n",
    " + 时间分辨探测器(time-resolved detector14)\n",
    "     + Micro Photon Devices的PDM系列单光子雪崩二极管（SPAD）\n",
    "     + 有效面积为100μm⇥100μm\n",
    "     + 27 ps定时抖动（675 nm处的100 kHz激光）\n",
    "     + 每秒40.9的暗计数\n",
    " + 检测事件: 时间相关单光子计数器模块(TCSPC)\n",
    "     + PicoHarp 300\n",
    "     + 4ps时间分辨率对检测事件加时间戳\n",
    " + 聚焦\n",
    "     + 75mm消色差双合透镜\n",
    "     + 型号: Thorlabs AC254-075-A-ML\n",
    " + 滤光\n",
    "     + 激光线滤光器\n",
    "     + 型号: Thorlabs FL670-1\n",
    " + 分束器\n",
    "     + 偏振分束器\n",
    "     + 型号： Thorlabs PBS251\n",
    "     + 将检测光学系统与有源光源同轴对准\n",
    " + 光源\n",
    "     + 由670 nm波长脉冲激光二极管组成\n",
    "     + 型号：ALPHALAS PICOPOWER-LD-670-50\n",
    "     + 脉冲宽度为30.6ps\n",
    "     + 重复频率为10MHz\n",
    "     + 平均功率为0.11mW\n",
    " + 扫描电流计\n",
    "     + 2轴扫描电流计光栅扫描距离系统大约2米的墙壁上的照明和检测点\n",
    "     + 型号: Thorlabs GVS012\n",
    "     + 通过一个倾斜角度扫描\n",
    " + 对抖动的说明和处理\n",
    "     + 在没有激光线路滤波器的情况下，整个系统的测量抖动约为60 ps\n",
    "     + 在滤波器打开时，测得的抖动为200 ps\n",
    "     + 仅将滤波器用于室外实验以减少环境光\n",
    "     + 抖动的增加是由于滤波器的光谱传输特性通过时间带宽积影响成像系统的时间特性这一事实\n",
    "     + 适当选择谱线滤波器和脉冲激光可以减轻这种影响"
   ]
  },
  {
   "cell_type": "markdown",
   "metadata": {},
   "source": [
    "### Challenges with confocal scanning\n",
    "Unlike conventional approaches, a confocalized NLOS system exposes the detector to direct reflections. This can be problematic, because the overwhelmingly bright contribution of direct light reduces the SNR of the indirect signal in two ways. First, after detecting a photon, the SPAD sensor becomes inactive for approximately 75 ns and ignores any photons that strike the detector for this period of time (commonly referred to as the dead time of the device). If the contribution of direct light is too strong, this reduces the detection probability of indirect photons. Second, approximately 0.1% of detected photon events produce a secondary event due to an effect known as afterpulsing. The contribution of direct photons therefore increases the number of spurious photons detected by the SPAD, further reducing the SNR of the indirect signal. \n",
    "To avoid the negative effects of a strong direct signal, a time-gated SPAD could be used for detection to gate out photons due to direct light.16 Given that our SPAD operates in free-running mode, we instead illuminate and image two slightly different points on a wall to reduce the contribution of direct light. The distance between these points should be sufficiently small so as to not affect the confocal image formation model."
   ]
  },
  {
   "cell_type": "markdown",
   "metadata": {},
   "source": [
    "#### 共焦扫描的挑战\n",
    "共焦NLOS系统会降低间接信号的SNR\n",
    " + 与传统方法不同，共焦NLOS系统使探测器暴露于直接反射\n",
    " + 直接光的绝对明亮会以两种方式降低间接信号的SNR\n",
    "     + 首先，在检测到光子之后，SPAD传感器变为无效约75ns并忽略在这段时间内撞击检测器的任何光子（通常称为器件的死区时间）。如果直射光的贡献太强，则会降低间接光子的检测概率。\n",
    "     + 其次，由于称为后脉冲的效应，大约0.1％的检测到的光子事件产生了二次事件。\n",
    "     + 因此，直接光子的贡献增加了SPAD检测到的伪光子的数量，进一步降低了间接信号的SNR。\n",
    "降低强直接信号的负面影响的方法：\n",
    " + 使用时间选通SPAD来检测而对光子进行门控(due to direct light).\n",
    " + 鉴于我们的SPAD在自由运行模式下运行，我们在墙上照亮并成像两个稍微不同的点，以减少直射光的贡献。 这些点之间的距离应足够小，以免影响共焦图像形成模型。\n",
    "     "
   ]
  },
  {
   "cell_type": "markdown",
   "metadata": {},
   "source": [
    "### System calibration\n",
    "The first calibration step involves aligning the detector and light source by adjusting the position of the beamsplitter to maximize the photon count rate. When perfectly aligned, the strong direct signal significantly reduces the number of indirect photons detected by the SPAD. Therefore, the second step involves slightly adjusting the position of the beamsplitter to decrease the direct photon counts and increase the indirect photon counts originating from a hidden retroreflector placed within the scene (e.g., the exit sign). The SPAD detected between 0.29 and 1 million counts per second for all experiments (i.e., the number of detected events ranged between 2.9% and 10% of the total number of pulses). For the final step, the system scans a 6 $\\times$ 6 grid of points on the wall and uses the time of arrival of direct photons and known galvanometer mirror angles to compute the relative position and orientation of the wall relative to the system."
   ]
  },
  {
   "cell_type": "markdown",
   "metadata": {},
   "source": [
    "#### 系统校准\n",
    "系统校准分为三步:\n",
    " + step1: 通过调整分束器的位置来对准检测器和光源，以使光子计数率最大化。\n",
    " \n",
    "当完美对齐时，强直接信号显着减少了SPAD检测到的间接光子的数量。\n",
    " + step2: 稍微调整分束器的位置以减少直接光子计数并增加源自放置在场景内的隐藏后向反射器（例如，出口标志）的间接光子计数。\n",
    " \n",
    "对于所有实验，SPAD检测每秒0.29至100万次计数（即，检测到的事件的数量在脉冲总数的2.9％至10％之间）。\n",
    "\n",
    " + step3: 系统扫描墙上的6 * 6网格点，并使用直接光子的到达时间和已知的检流计镜角度来计算墙相对于系统的相对位置和方向。\n"
   ]
  },
  {
   "cell_type": "markdown",
   "metadata": {},
   "source": [
    "### Acquisition procedure\n",
    "The system scans 64 $\\times$ 64    equidistant points on awall for indoor experiments,and32 $\\times$ 32 points for the outdoor experiment. At a 10MHz repetition rate, the PicoHarp 300 returns unprocessed histograms containing25,000 bins with a temporal resolution of 4 ps per bin. The acquired histograms are temporally aligned such that the direct pulses appear at time t =0. Histograms are then trimmed to either 2048 bins for indoor experiments or 4096 bins for the outdoor experiment. The ﬁrst 600 bins are set to 0 to remove the direct component. The histograms are then downsampled by a factor of 4 to either 512 or 1024 bins before processing,where each bin now has a temporal resolution of 16ps. The acquisition time for each histogram is either 0.1sor 1s, as indicated for each respective experiment.\n"
   ]
  },
  {
   "cell_type": "markdown",
   "metadata": {},
   "source": [
    "#### 获得程序\n",
    " + 扫描墙的范围\n",
    "     + 系统扫描墙上64 * 64等距点进行室内实验，32 * 32点进行室外实验\n",
    " + PicoHarp 300 时间相关单光子计数器模块(TCSPC)(检测事件)\n",
    "     + 在10MHz的重复频率下，PicoHarp 300返回包含25,000个二进制数据的未处理直方图，每个二进制数据的时间分辨率为4 ps。 \n",
    "     + 所获取的直方图在时间上对齐，使得直接脉冲出现在时间t = 0。 \n",
    "     + 将直方图修剪为2048个二进制数据用于室内实验 或 4096个二进制数据用于室外实验。\n",
    "     + 将前600个二进制文件设置为0以移除直接分量。\n",
    "     + 然后在处理之前将直方图下采样4倍至512或1024个二进制数据，其中每个区间现在具有16ps的时间分辨率。 \n",
    "     + 每个直方图的采集时间为0.1μs1s，如每个相应实验所示。"
   ]
  },
  {
   "cell_type": "markdown",
   "metadata": {},
   "source": [
    "### Validatingradiometricfalloff\n",
    "Toverifytheradiometricintensityfalloffintheproposedimageformationmodel, we measure the intensity of a small patch behind the wall while varying the distance between the NLOS patch and the sampled wall. Figure 1 shows the intensity response for several different materials: a diffuse patch and retroreﬂectivepatchesofdifferentgrades(“engineering”gradeand“diamond”grade). Forthediffusepatch,measurements (blue circles) closely match the predicted $\\frac{1}{r^{4}}$ falloff (blue line), where r is the distance between patch andwall. Similarly,thediamondgraderetroreﬂectivematerial(redcircles)closelymatchesthepredicted $\\frac{1}{r^2}$ falloff (red line). Lower-quality retroreﬂectors, such as the engineering grade retroreﬂective material or most retroreﬂectivepaints,exhibitafalloffthatissomewherebetweendiffuseandperfectlyretroreﬂective. Theengineeringgrade retroreﬂectivematerial(greencircles),forexample,canbemodeledbyafallofftermof $\\frac{1}{r^{2.3}} $(greenline). Note that the intensity falloff only includes the propagation distance between the visible wall and the hidden surface as well as the distance back along the same path. The additional travel distance between the laser/detector andthewallisﬁxed,anddoesnotaffecttheintensityfalloffrate.\n"
   ]
  },
  {
   "cell_type": "code",
   "execution_count": null,
   "metadata": {},
   "outputs": [],
   "source": [
    "#### "
   ]
  }
 ],
 "metadata": {
  "kernelspec": {
   "display_name": "Matlab",
   "language": "matlab",
   "name": "matlab"
  },
  "toc": {
   "base_numbering": 1,
   "nav_menu": {},
   "number_sections": true,
   "sideBar": true,
   "skip_h1_title": false,
   "title_cell": "Table of Contents",
   "title_sidebar": "Contents",
   "toc_cell": false,
   "toc_position": {},
   "toc_section_display": true,
   "toc_window_display": false
  }
 },
 "nbformat": 4,
 "nbformat_minor": 2
}
